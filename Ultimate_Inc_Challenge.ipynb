{
 "cells": [
  {
   "cell_type": "markdown",
   "metadata": {},
   "source": [
    "# Ultimate Inc Data Science Take-Home Challenge\n",
    "In this project we will be analyzing the logins of users of a ride-sharing platform, Ultimate Inc. \n",
    "\n",
    "## Part 1 - Exploratory Data Analysis\n",
    "We will begin by investigating the logins.json file and doing some data analysis based on 15 minute intervals through the day across several months of time series data. "
   ]
  },
  {
   "cell_type": "markdown",
   "metadata": {},
   "source": [
    "#### Imports"
   ]
  },
  {
   "cell_type": "code",
   "execution_count": 1,
   "metadata": {},
   "outputs": [],
   "source": [
    "import pandas as pd\n",
    "import json\n",
    "import matplotlib.pyplot as plt\n",
    "import numpy as np"
   ]
  },
  {
   "cell_type": "markdown",
   "metadata": {},
   "source": [
    "#### File preparation"
   ]
  },
  {
   "cell_type": "code",
   "execution_count": 2,
   "metadata": {},
   "outputs": [],
   "source": [
    "logins_filename = 'logins.json' \n",
    "ulti_filename   = 'ultimate_data_challenge.json'"
   ]
  },
  {
   "cell_type": "code",
   "execution_count": 3,
   "metadata": {},
   "outputs": [],
   "source": [
    "logins_df = pd.read_json(logins_filename, convert_dates  = ['T'])"
   ]
  },
  {
   "cell_type": "markdown",
   "metadata": {},
   "source": [
    "#### Data description"
   ]
  },
  {
   "cell_type": "code",
   "execution_count": 4,
   "metadata": {},
   "outputs": [
    {
     "data": {
      "text/html": [
       "<div>\n",
       "<style>\n",
       "    .dataframe thead tr:only-child th {\n",
       "        text-align: right;\n",
       "    }\n",
       "\n",
       "    .dataframe thead th {\n",
       "        text-align: left;\n",
       "    }\n",
       "\n",
       "    .dataframe tbody tr th {\n",
       "        vertical-align: top;\n",
       "    }\n",
       "</style>\n",
       "<table border=\"1\" class=\"dataframe\">\n",
       "  <thead>\n",
       "    <tr style=\"text-align: right;\">\n",
       "      <th></th>\n",
       "      <th>login_time</th>\n",
       "    </tr>\n",
       "  </thead>\n",
       "  <tbody>\n",
       "    <tr>\n",
       "      <th>count</th>\n",
       "      <td>93142</td>\n",
       "    </tr>\n",
       "    <tr>\n",
       "      <th>unique</th>\n",
       "      <td>92265</td>\n",
       "    </tr>\n",
       "    <tr>\n",
       "      <th>top</th>\n",
       "      <td>1970-02-12 11:16:53</td>\n",
       "    </tr>\n",
       "    <tr>\n",
       "      <th>freq</th>\n",
       "      <td>3</td>\n",
       "    </tr>\n",
       "    <tr>\n",
       "      <th>first</th>\n",
       "      <td>1970-01-01 20:12:16</td>\n",
       "    </tr>\n",
       "    <tr>\n",
       "      <th>last</th>\n",
       "      <td>1970-04-13 18:57:38</td>\n",
       "    </tr>\n",
       "  </tbody>\n",
       "</table>\n",
       "</div>"
      ],
      "text/plain": [
       "                 login_time\n",
       "count                 93142\n",
       "unique                92265\n",
       "top     1970-02-12 11:16:53\n",
       "freq                      3\n",
       "first   1970-01-01 20:12:16\n",
       "last    1970-04-13 18:57:38"
      ]
     },
     "execution_count": 4,
     "metadata": {},
     "output_type": "execute_result"
    }
   ],
   "source": [
    "logins_df.describe()"
   ]
  },
  {
   "cell_type": "markdown",
   "metadata": {},
   "source": [
    "#### Time intervals"
   ]
  },
  {
   "cell_type": "markdown",
   "metadata": {},
   "source": [
    "Looking at the description of the logins df we know our first 15 minute interval begins at 1970-01-01 20:00:00. While our last 15 minute interval is at 1970-04-13 19:00:00\n",
    "\n",
    "We can use pd.date_range() to make our intervals"
   ]
  },
  {
   "cell_type": "code",
   "execution_count": 5,
   "metadata": {},
   "outputs": [],
   "source": [
    "# Make a list of interval end points\n",
    "start_times = pd.date_range(start='1970-01-01 20:00:00', \n",
    "                          end = '1970-04-13 18:45:00', \n",
    "                          freq='15min')\n",
    "# Make a list of interval end points\n",
    "end_times = pd.date_range(start='1970-01-01 20:15:00', \n",
    "                          end = '1970-04-13 19:00:00', \n",
    "                          freq='15min')"
   ]
  },
  {
   "cell_type": "markdown",
   "metadata": {},
   "source": [
    "#### Separate the 15 minute intervals into dataframes based on time of day.\n",
    "\n",
    "- Early AM: 00:00 through 04:59\n",
    "- Morning: 05:00 through 08:59\n",
    "- Midday: 09:00 through 11:59\n",
    "- Afternoon: 12:00 through 16:59\n",
    "- Evening: 17:00 through 19:59\n",
    "- Night: 20:00 through 23:59"
   ]
  },
  {
   "cell_type": "code",
   "execution_count": 6,
   "metadata": {},
   "outputs": [],
   "source": [
    "# Now we want to make a list of dataframes\n",
    "\n",
    "logins_df_list = []\n",
    "interval_login_counts = []\n",
    "\n",
    "earlyAM_login_list = []\n",
    "morning_login_list = []\n",
    "midday_login_list = []\n",
    "afternoon_login_list = []\n",
    "evening_login_list = []\n",
    "night_login_list = []\n",
    "\n",
    "for start, end in zip(start_times, end_times):\n",
    "    # This line is for debugging un-comment it to have the interval currently being worked on displayed.\n",
    "#    print('Start Time:', start, ' End Time:', end)\n",
    "    \n",
    "    # Make the a new dataframe for each interval\n",
    "    interval_df = logins_df[(logins_df['login_time'] > start) & \n",
    "                            (logins_df['login_time'] <= end)]\n",
    "    interval_df.index = pd.RangeIndex(len(interval_df.index))\n",
    "    \n",
    "    # Get the count\n",
    "    interval_count = len(interval_df)\n",
    "    \n",
    "    interval_login_counts.append(interval_count)\n",
    "    \n",
    "    # Assign it to the bigger list\n",
    "    logins_df_list.append(interval_df)\n",
    "    \n",
    "    \n",
    "    # Assign interval_df to time of day\n",
    "    \n",
    "    # Early AM: 00:00 through 04:59\n",
    "    if (start.hour >= 0) & (start.hour < 5):\n",
    "        earlyAM_login_list.append(interval_df)\n",
    "    \n",
    "    # Morning: 05:00 through 08:59\n",
    "    elif (start.hour >= 5) & (start.hour < 9):\n",
    "        morning_login_list.append(interval_df)\n",
    "    \n",
    "    # Midday: 09:00 through 11:59\n",
    "    elif (start.hour >= 9) & (start.hour < 12):\n",
    "        midday_login_list.append(interval_df)\n",
    "    \n",
    "    # Afternoon: 12:00 through 16:59\n",
    "    elif (start.hour >= 12) & (start.hour < 17):\n",
    "        afternoon_login_list.append(interval_df)\n",
    "    \n",
    "    # Evening: 17:00 through 19:59\n",
    "    elif (start.hour >= 17) & (start.hour < 20):\n",
    "        evening_login_list.append(interval_df)\n",
    "    \n",
    "    # Night: 20:00 through 23:59\n",
    "    elif (start.hour >= 20) & (start.hour < 24):\n",
    "        night_login_list.append(interval_df)"
   ]
  },
  {
   "cell_type": "markdown",
   "metadata": {},
   "source": [
    "### Plot the entire time series"
   ]
  },
  {
   "cell_type": "code",
   "execution_count": 7,
   "metadata": {},
   "outputs": [
    {
     "data": {
      "image/png": "[encoded data removed]",
      "text/plain": [
       "<matplotlib.figure.Figure at 0x265f152f4e0>"
      ]
     },
     "metadata": {},
     "output_type": "display_data"
    }
   ],
   "source": [
    "start_list = list(start_times)\n",
    "t = np.arange(len(start_list))\n",
    "interval_array = np.array(interval_login_counts)\n",
    "# 103 days in the sample\n",
    "daily_linspace = np.linspace(0, len(start_list), num = 103)\n",
    "\n",
    "plt.figure(figsize=(12,6))\n",
    "plt.bar(t, interval_array, color = 'blue')\n",
    "plt.title('First Look: Ride Usage per 15 minutes')\n",
    "plt.xticks(daily_linspace)\n",
    "plt.xlabel('Time of day')\n",
    "plt.ylabel('Rider count')\n",
    "plt.ylim(0, 30)\n",
    "plt.grid()\n",
    "plt.show()\n",
    "plt.clf()"
   ]
  },
  {
   "cell_type": "markdown",
   "metadata": {},
   "source": [
    "There is certainly some kind of cyclical pattern above, but the plot is incredible hard to read. Looking at smaller sections of the plot should be very helpful. For example, we look at the first day, and first week of the time-series."
   ]
  },
  {
   "cell_type": "markdown",
   "metadata": {},
   "source": [
    "### Plots for the first day"
   ]
  },
  {
   "cell_type": "code",
   "execution_count": 8,
   "metadata": {},
   "outputs": [
    {
     "name": "stdout",
     "output_type": "stream",
     "text": [
      "Day One Line Plot\n"
     ]
    },
    {
     "data": {
      "text/plain": [
       "<matplotlib.figure.Figure at 0x265ef6fdbe0>"
      ]
     },
     "metadata": {},
     "output_type": "display_data"
    },
    {
     "data": {
      "image/png": "[encoded data removed]",
      "text/plain": [
       "<matplotlib.figure.Figure at 0x265f357fdd8>"
      ]
     },
     "metadata": {},
     "output_type": "display_data"
    },
    {
     "name": "stdout",
     "output_type": "stream",
     "text": [
      "Day One Bar Plot\n"
     ]
    },
    {
     "data": {
      "text/plain": [
       "<matplotlib.figure.Figure at 0x265f43c6320>"
      ]
     },
     "metadata": {},
     "output_type": "display_data"
    },
    {
     "data": {
      "image/png": "[encoded data removed]",
      "text/plain": [
       "<matplotlib.figure.Figure at 0x265f3fee4e0>"
      ]
     },
     "metadata": {},
     "output_type": "display_data"
    }
   ],
   "source": [
    "day_one_array = interval_array[0:96]\n",
    "day_t = np.arange(96)\n",
    "day_linspace = np.linspace(0, 96, 25)\n",
    "\n",
    "print('Day One Line Plot')\n",
    "day_one_array = interval_array[0:96]\n",
    "day_t = np.arange(96)\n",
    "day_linspace = np.linspace(0, 96, 25)\n",
    "\n",
    "plt.figure(figsize=(12,6))\n",
    "plt.plot(day_t, day_one_array, color = 'orange')\n",
    "plt.title('Day One: Ride Usage per 15 minutes')\n",
    "plt.xticks(day_linspace)\n",
    "plt.xlabel('nth 15 minute interval')\n",
    "plt.ylabel('Rider count')\n",
    "plt.ylim(0, 20)\n",
    "plt.grid()\n",
    "plt.show()\n",
    "plt.clf()\n",
    "\n",
    "print('Day One Bar Plot')\n",
    "\n",
    "\n",
    "plt.figure(figsize=(12,6))\n",
    "plt.bar(day_t, day_one_array, color = 'orange')\n",
    "plt.title('Day One: Ride Usage per 15 minutes')\n",
    "plt.xticks(day_linspace)\n",
    "plt.xlabel('nth 15 minute interval')\n",
    "plt.ylabel('Rider count')\n",
    "plt.ylim(0, 20)\n",
    "plt.grid()\n",
    "plt.show()\n",
    "plt.clf()"
   ]
  },
  {
   "cell_type": "markdown",
   "metadata": {},
   "source": [
    "A quick note. Each 4th 15 minute interval is an hour, so for example, the 20th 15 minute interval is 5 am. \n",
    "\n",
    "Notice that there is a lot of activity in the early hours of the morning between 3 and 6 am. This is probably due to late night activity in the city. "
   ]
  },
  {
   "cell_type": "markdown",
   "metadata": {},
   "source": [
    "### Plots for the first week"
   ]
  },
  {
   "cell_type": "code",
   "execution_count": 9,
   "metadata": {},
   "outputs": [
    {
     "name": "stdout",
     "output_type": "stream",
     "text": [
      "\n",
      "\n",
      "\n",
      "\n",
      "Week One Line Plot\n"
     ]
    },
    {
     "data": {
      "text/plain": [
       "<matplotlib.figure.Figure at 0x265f5981a20>"
      ]
     },
     "metadata": {},
     "output_type": "display_data"
    },
    {
     "data": {
      "image/png": "[encoded data removed]",
      "text/plain": [
       "<matplotlib.figure.Figure at 0x265f583aa20>"
      ]
     },
     "metadata": {},
     "output_type": "display_data"
    },
    {
     "name": "stdout",
     "output_type": "stream",
     "text": [
      "Week One Bar Plot\n"
     ]
    },
    {
     "data": {
      "text/plain": [
       "<matplotlib.figure.Figure at 0x265f61df4e0>"
      ]
     },
     "metadata": {},
     "output_type": "display_data"
    },
    {
     "data": {
      "image/png": "[encoded data removed]",
      "text/plain": [
       "<matplotlib.figure.Figure at 0x265f633a4e0>"
      ]
     },
     "metadata": {},
     "output_type": "display_data"
    }
   ],
   "source": [
    "# First Week\n",
    "print('\\n\\n\\n')\n",
    "print('Week One Line Plot')\n",
    "week_one_array = interval_array[0:672]\n",
    "week_t = np.arange(672)\n",
    "week_linspace = np.linspace(0, 672, 8)\n",
    "\n",
    "plt.figure(figsize=(12,6))\n",
    "plt.plot(week_t, week_one_array, color = 'purple')\n",
    "plt.title('Week One: Ride Usage per 15 minutes')\n",
    "plt.xticks(week_linspace)\n",
    "plt.xlabel('nth 15 minute interval (96 intervals in a day)')\n",
    "plt.ylabel('Rider count')\n",
    "plt.ylim(0, 35)\n",
    "plt.grid()\n",
    "plt.show()\n",
    "plt.clf()\n",
    "\n",
    "\n",
    "print('Week One Bar Plot')\n",
    "\n",
    "\n",
    "plt.figure(figsize=(12,6))\n",
    "plt.bar(week_t, week_one_array, color = 'purple')\n",
    "plt.title('Week One: Ride Usage per 15 minutes')\n",
    "plt.xticks(week_linspace)\n",
    "plt.xlabel('nth 15 minute interval (96 intervals in a day)')\n",
    "plt.ylabel('Rider count')\n",
    "plt.ylim(0, 35)\n",
    "plt.grid()\n",
    "plt.show()\n",
    "plt.clf()"
   ]
  },
  {
   "cell_type": "markdown",
   "metadata": {},
   "source": [
    "There are some clear patterns that may be part of a day night cycle. Separating the times into times of day may elucidate things"
   ]
  },
  {
   "cell_type": "markdown",
   "metadata": {},
   "source": [
    "#### Concatenating the time of day dataframes"
   ]
  },
  {
   "cell_type": "code",
   "execution_count": 10,
   "metadata": {},
   "outputs": [],
   "source": [
    "earlyAM_login_df   = pd.concat(earlyAM_login_list)\n",
    "morning_login_df   = pd.concat(morning_login_list)\n",
    "midday_login_df    = pd.concat(midday_login_list)\n",
    "afternoon_login_df = pd.concat(afternoon_login_list)\n",
    "evening_login_df   = pd.concat(evening_login_list)\n",
    "night_login_df     = pd.concat(night_login_list)\n",
    "\n",
    "\n",
    "earlyAM_login_count   = len(earlyAM_login_df)\n",
    "morning_login_count   = len(morning_login_df)\n",
    "midday_login_count    = len(midday_login_df)\n",
    "afternoon_login_count = len(afternoon_login_df)\n",
    "evening_login_count   = len(evening_login_df)\n",
    "night_login_count     = len(night_login_df)\n",
    "\n",
    "time_titles = ['Early_AM', 'Morning', 'Midday', 'Afternoon', 'Evening', 'Night']\n",
    "times_of_day_count_overall = [earlyAM_login_count,\n",
    "                              morning_login_count,\n",
    "                              midday_login_count,\n",
    "                              afternoon_login_count,\n",
    "                              evening_login_count,\n",
    "                              night_login_count]"
   ]
  },
  {
   "cell_type": "markdown",
   "metadata": {},
   "source": [
    "#### Plot the time of day bar chart"
   ]
  },
  {
   "cell_type": "code",
   "execution_count": 11,
   "metadata": {},
   "outputs": [
    {
     "data": {
      "text/plain": [
       "<matplotlib.figure.Figure at 0x265ef5e35f8>"
      ]
     },
     "metadata": {},
     "output_type": "display_data"
    },
    {
     "data": {
      "image/png": "[encoded data removed]",
      "text/plain": [
       "<matplotlib.figure.Figure at 0x265faf152e8>"
      ]
     },
     "metadata": {},
     "output_type": "display_data"
    }
   ],
   "source": [
    "time_of_day_array = np.array(times_of_day_count_overall)\n",
    "x = np.arange(6)\n",
    "\n",
    "plt.figure(figsize=(8,4))\n",
    "plt.bar(x, time_of_day_array, color = 'green')\n",
    "plt.xticks(x,time_titles)\n",
    "plt.title('Total ride usage by time of day')\n",
    "plt.xlabel('Time of day')\n",
    "plt.ylabel('Rider count')\n",
    "plt.ylim(0, 30000)\n",
    "plt.show()\n",
    "plt.clf()"
   ]
  },
  {
   "cell_type": "markdown",
   "metadata": {},
   "source": [
    "These plots key us in to the lifestyle in the city we are studying. The high uptick of riders in the afternoon, night-time, and early AM indicates a city where businesses open later in the day and are open all night. This would be indicative of a city with bustling nightlife such as Las Vegas, or in our fictional case: Gotham."
   ]
  },
  {
   "cell_type": "markdown",
   "metadata": {},
   "source": [
    "## Part 2 - Experiment and Metrics Design\n",
    "Two neighboring cities, Gotham and Metropolis, have complimentary circadian rhythms. During the week Gotham is far more active at night, while Metropolis is active during the day. The two cities have similar schedules on weekends. \n",
    "\n",
    "A toll bridge, with a two way toll, separates the two cities and causes Ultimate drivers to tend to be exclusive to one city (else they would lose a sizable portion of their earnings to tolls). Ultimate managers for the two cities have proposed an experiment to encourage Ultimate drivers to be available in both cities, by reimbursing all toll costs. \n",
    "\n",
    "We are asked to address: \n",
    "\n",
    "1. What would we choose as the key measure of success of this experiment in encouraging Ultimate drivers to serve both cities, and why would we choose this metric?\n",
    "\n",
    "\n",
    "2. Describe a practical experiment you would design to compare the effectiveness of the proposed change in relation to the key measure of success. Please provide details on: \n",
    "    -  How will Ultimate implement the experiment\n",
    "    -  What statistical test(s) would Ultimate conduct to verify the significance of the observation\n",
    "    -  How you would interpret the results and provide recommendations to the city operations team along with any caveats."
   ]
  },
  {
   "cell_type": "markdown",
   "metadata": {},
   "source": [
    "### Part 2.1 \n",
    "The key metric would be be surge, i.e the surge_pct and avg_surge values as these indicate how overtaxed the services are. That is to say, when demand outpaces supply surge rates are put into effect. These rates can deter customers, which ensures that wait times remain low, in line with user expectations. If these metrics decrease, this means that the toll bridge experiment could be providing the extra supply needed to reduce or even eliminate surge pricing. \n",
    "\n",
    "It should also be noted that the avg_dist variable could be of key importance during this experiment. If users in one city are now able to take an Ultimate ride to the other city the avg_dist value could increase to represent this new world of destination possibilites. It should be noted if previously Ultimate drivers were using a long alternative route to avoid the bridge, we could see avg_dist values decrease. So context regarding the city landscape is important when analyzing the results of the test. "
   ]
  },
  {
   "cell_type": "markdown",
   "metadata": {},
   "source": [
    "### Part 2.2 \n",
    "The experiment would entail enabling bridge toll refunds for a series of months to all Ultimate driving partners, collecting the data for retention rates, and comparing this data to the historical data. \n",
    "\n",
    "#### Part 2.2a: How Will Ultimate Implement the Experiment?\n",
    "Ultimate would implement this study by advertising it to their drivers as a new opportunitiy to capitalize on the different daily lifestyle patterns between the cities. Ultimate would register driving partners into the EzPass system which will provide an electronic receipt of all tolls. Ultimate would then set up the accounts to forward said toll billings to Ultimate, who would then process the associated tolls if the driver was taking a ride order or servicing a customer at that time. These rides would then have their data collected in the same fashion as the historical data and we would then compare surge_pct, avg_surge, and avg_dist over various periods.\n",
    "\n",
    "#### Part 2.2b: What statistical test(s) would Ultimate conduct to verify the significance of the observation\n",
    "We would use a Z-test to analyze values for avg_surge, surge_pct, and avg_dist as we know the mean and standard deviations of surge and average distance over historical time periods for the different cities. Here the sample means would be the means during the experiment, and the population mean would be the means outside of the experiment.\n",
    "\n",
    "#### Part 2.2c: How you would interpret the results and provide recommendations to the city operations team along with any caveats.\n",
    "Given a p value low enough (<0.05) to reject the null hypothesis I would acknowledge that the toll reimbursement plan contributed to lowering the surge rates. I would then recommend that the city operations teams consider making this a policy that we continue to implement moving forward. Moreover, I would recommend that they advertise the exciting city interconnectivity Ultimate now provides to customers in both cities. \n",
    "\n",
    "An important caveat is that the city operations teams should be working together to ensure that they have driving partners at the ready for transition times between the active daytime life of Metropolis and the nightlife of Gotham, as these are the hours that were formerly not as profitable for Ultimate partners before the experiment. "
   ]
  },
  {
   "cell_type": "markdown",
   "metadata": {},
   "source": [
    "## Part 3 - Predictive Modeling"
   ]
  },
  {
   "cell_type": "markdown",
   "metadata": {},
   "source": [
    "#### Imports\n",
    "The imports are redone in case the reader would like to run this section of the code separately without searching for prior imports"
   ]
  },
  {
   "cell_type": "code",
   "execution_count": 12,
   "metadata": {},
   "outputs": [],
   "source": [
    "import pandas as pd\n",
    "import json\n",
    "import matplotlib.pyplot as plt\n",
    "import numpy as np"
   ]
  },
  {
   "cell_type": "markdown",
   "metadata": {},
   "source": [
    "#### File Preparation"
   ]
  },
  {
   "cell_type": "code",
   "execution_count": 13,
   "metadata": {},
   "outputs": [],
   "source": [
    "ulti_filename   = 'ultimate_data_challenge.json'\n",
    "\n",
    "with open(ulti_filename) as f:\n",
    "    ulti_data = json.load(f)\n",
    "\n",
    "ulti_df = pd.DataFrame(ulti_data)"
   ]
  },
  {
   "cell_type": "markdown",
   "metadata": {},
   "source": [
    "#### Create separate data frames for retained and non-retained users"
   ]
  },
  {
   "cell_type": "code",
   "execution_count": 14,
   "metadata": {},
   "outputs": [],
   "source": [
    "zero_user_df     = ulti_df.loc[ulti_df['trips_in_first_30_days'] == 0]\n",
    "retained_user_df = ulti_df.loc[ulti_df['trips_in_first_30_days'] != 0]"
   ]
  },
  {
   "cell_type": "markdown",
   "metadata": {},
   "source": [
    "### Part 3 Exploratory Data Analysis\n",
    "#### Part 3.1 Conduct EDA and determine Feature Importances for a Predictive model regarding one month customer retention rates."
   ]
  },
  {
   "cell_type": "code",
   "execution_count": 15,
   "metadata": {},
   "outputs": [
    {
     "data": {
      "text/html": [
       "<div>\n",
       "<style>\n",
       "    .dataframe thead tr:only-child th {\n",
       "        text-align: right;\n",
       "    }\n",
       "\n",
       "    .dataframe thead th {\n",
       "        text-align: left;\n",
       "    }\n",
       "\n",
       "    .dataframe tbody tr th {\n",
       "        vertical-align: top;\n",
       "    }\n",
       "</style>\n",
       "<table border=\"1\" class=\"dataframe\">\n",
       "  <thead>\n",
       "    <tr style=\"text-align: right;\">\n",
       "      <th></th>\n",
       "      <th>avg_dist</th>\n",
       "      <th>avg_rating_by_driver</th>\n",
       "      <th>avg_rating_of_driver</th>\n",
       "      <th>avg_surge</th>\n",
       "      <th>surge_pct</th>\n",
       "      <th>trips_in_first_30_days</th>\n",
       "      <th>weekday_pct</th>\n",
       "    </tr>\n",
       "  </thead>\n",
       "  <tbody>\n",
       "    <tr>\n",
       "      <th>count</th>\n",
       "      <td>15390.000000</td>\n",
       "      <td>15296.000000</td>\n",
       "      <td>11641.000000</td>\n",
       "      <td>15390.000000</td>\n",
       "      <td>15390.000000</td>\n",
       "      <td>15390.0</td>\n",
       "      <td>15390.000000</td>\n",
       "    </tr>\n",
       "    <tr>\n",
       "      <th>mean</th>\n",
       "      <td>6.397854</td>\n",
       "      <td>4.791200</td>\n",
       "      <td>4.632721</td>\n",
       "      <td>1.071320</td>\n",
       "      <td>8.512982</td>\n",
       "      <td>0.0</td>\n",
       "      <td>61.299350</td>\n",
       "    </tr>\n",
       "    <tr>\n",
       "      <th>std</th>\n",
       "      <td>6.527654</td>\n",
       "      <td>0.499961</td>\n",
       "      <td>0.655351</td>\n",
       "      <td>0.238503</td>\n",
       "      <td>22.000314</td>\n",
       "      <td>0.0</td>\n",
       "      <td>41.312242</td>\n",
       "    </tr>\n",
       "    <tr>\n",
       "      <th>min</th>\n",
       "      <td>0.000000</td>\n",
       "      <td>1.000000</td>\n",
       "      <td>1.000000</td>\n",
       "      <td>1.000000</td>\n",
       "      <td>0.000000</td>\n",
       "      <td>0.0</td>\n",
       "      <td>0.000000</td>\n",
       "    </tr>\n",
       "    <tr>\n",
       "      <th>25%</th>\n",
       "      <td>2.350000</td>\n",
       "      <td>4.800000</td>\n",
       "      <td>4.500000</td>\n",
       "      <td>1.000000</td>\n",
       "      <td>0.000000</td>\n",
       "      <td>0.0</td>\n",
       "      <td>16.700000</td>\n",
       "    </tr>\n",
       "    <tr>\n",
       "      <th>50%</th>\n",
       "      <td>4.150000</td>\n",
       "      <td>5.000000</td>\n",
       "      <td>5.000000</td>\n",
       "      <td>1.000000</td>\n",
       "      <td>0.000000</td>\n",
       "      <td>0.0</td>\n",
       "      <td>75.000000</td>\n",
       "    </tr>\n",
       "    <tr>\n",
       "      <th>75%</th>\n",
       "      <td>8.060000</td>\n",
       "      <td>5.000000</td>\n",
       "      <td>5.000000</td>\n",
       "      <td>1.000000</td>\n",
       "      <td>0.000000</td>\n",
       "      <td>0.0</td>\n",
       "      <td>100.000000</td>\n",
       "    </tr>\n",
       "    <tr>\n",
       "      <th>max</th>\n",
       "      <td>160.960000</td>\n",
       "      <td>5.000000</td>\n",
       "      <td>5.000000</td>\n",
       "      <td>5.000000</td>\n",
       "      <td>100.000000</td>\n",
       "      <td>0.0</td>\n",
       "      <td>100.000000</td>\n",
       "    </tr>\n",
       "  </tbody>\n",
       "</table>\n",
       "</div>"
      ],
      "text/plain": [
       "           avg_dist  avg_rating_by_driver  avg_rating_of_driver     avg_surge  \\\n",
       "count  15390.000000          15296.000000          11641.000000  15390.000000   \n",
       "mean       6.397854              4.791200              4.632721      1.071320   \n",
       "std        6.527654              0.499961              0.655351      0.238503   \n",
       "min        0.000000              1.000000              1.000000      1.000000   \n",
       "25%        2.350000              4.800000              4.500000      1.000000   \n",
       "50%        4.150000              5.000000              5.000000      1.000000   \n",
       "75%        8.060000              5.000000              5.000000      1.000000   \n",
       "max      160.960000              5.000000              5.000000      5.000000   \n",
       "\n",
       "          surge_pct  trips_in_first_30_days   weekday_pct  \n",
       "count  15390.000000                 15390.0  15390.000000  \n",
       "mean       8.512982                     0.0     61.299350  \n",
       "std       22.000314                     0.0     41.312242  \n",
       "min        0.000000                     0.0      0.000000  \n",
       "25%        0.000000                     0.0     16.700000  \n",
       "50%        0.000000                     0.0     75.000000  \n",
       "75%        0.000000                     0.0    100.000000  \n",
       "max      100.000000                     0.0    100.000000  "
      ]
     },
     "execution_count": 15,
     "metadata": {},
     "output_type": "execute_result"
    }
   ],
   "source": [
    "zero_user_df.describe()"
   ]
  },
  {
   "cell_type": "code",
   "execution_count": 16,
   "metadata": {},
   "outputs": [
    {
     "data": {
      "text/html": [
       "<div>\n",
       "<style>\n",
       "    .dataframe thead tr:only-child th {\n",
       "        text-align: right;\n",
       "    }\n",
       "\n",
       "    .dataframe thead th {\n",
       "        text-align: left;\n",
       "    }\n",
       "\n",
       "    .dataframe tbody tr th {\n",
       "        vertical-align: top;\n",
       "    }\n",
       "</style>\n",
       "<table border=\"1\" class=\"dataframe\">\n",
       "  <thead>\n",
       "    <tr style=\"text-align: right;\">\n",
       "      <th></th>\n",
       "      <th>avg_dist</th>\n",
       "      <th>avg_rating_by_driver</th>\n",
       "      <th>avg_rating_of_driver</th>\n",
       "      <th>avg_surge</th>\n",
       "      <th>surge_pct</th>\n",
       "      <th>trips_in_first_30_days</th>\n",
       "      <th>weekday_pct</th>\n",
       "    </tr>\n",
       "  </thead>\n",
       "  <tbody>\n",
       "    <tr>\n",
       "      <th>count</th>\n",
       "      <td>34610.000000</td>\n",
       "      <td>34503.000000</td>\n",
       "      <td>30237.000000</td>\n",
       "      <td>34610.000000</td>\n",
       "      <td>34610.000000</td>\n",
       "      <td>34610.000000</td>\n",
       "      <td>34610.000000</td>\n",
       "    </tr>\n",
       "    <tr>\n",
       "      <th>mean</th>\n",
       "      <td>5.529568</td>\n",
       "      <td>4.772376</td>\n",
       "      <td>4.589562</td>\n",
       "      <td>1.076295</td>\n",
       "      <td>8.999191</td>\n",
       "      <td>3.291245</td>\n",
       "      <td>60.760104</td>\n",
       "    </tr>\n",
       "    <tr>\n",
       "      <th>std</th>\n",
       "      <td>5.280161</td>\n",
       "      <td>0.420742</td>\n",
       "      <td>0.601646</td>\n",
       "      <td>0.214742</td>\n",
       "      <td>18.979042</td>\n",
       "      <td>4.176923</td>\n",
       "      <td>35.035881</td>\n",
       "    </tr>\n",
       "    <tr>\n",
       "      <th>min</th>\n",
       "      <td>0.000000</td>\n",
       "      <td>1.000000</td>\n",
       "      <td>1.000000</td>\n",
       "      <td>1.000000</td>\n",
       "      <td>0.000000</td>\n",
       "      <td>1.000000</td>\n",
       "      <td>0.000000</td>\n",
       "    </tr>\n",
       "    <tr>\n",
       "      <th>25%</th>\n",
       "      <td>2.450000</td>\n",
       "      <td>4.700000</td>\n",
       "      <td>4.300000</td>\n",
       "      <td>1.000000</td>\n",
       "      <td>0.000000</td>\n",
       "      <td>1.000000</td>\n",
       "      <td>37.500000</td>\n",
       "    </tr>\n",
       "    <tr>\n",
       "      <th>50%</th>\n",
       "      <td>3.800000</td>\n",
       "      <td>5.000000</td>\n",
       "      <td>4.900000</td>\n",
       "      <td>1.000000</td>\n",
       "      <td>0.000000</td>\n",
       "      <td>2.000000</td>\n",
       "      <td>66.700000</td>\n",
       "    </tr>\n",
       "    <tr>\n",
       "      <th>75%</th>\n",
       "      <td>6.520000</td>\n",
       "      <td>5.000000</td>\n",
       "      <td>5.000000</td>\n",
       "      <td>1.070000</td>\n",
       "      <td>10.800000</td>\n",
       "      <td>4.000000</td>\n",
       "      <td>100.000000</td>\n",
       "    </tr>\n",
       "    <tr>\n",
       "      <th>max</th>\n",
       "      <td>79.690000</td>\n",
       "      <td>5.000000</td>\n",
       "      <td>5.000000</td>\n",
       "      <td>8.000000</td>\n",
       "      <td>100.000000</td>\n",
       "      <td>125.000000</td>\n",
       "      <td>100.000000</td>\n",
       "    </tr>\n",
       "  </tbody>\n",
       "</table>\n",
       "</div>"
      ],
      "text/plain": [
       "           avg_dist  avg_rating_by_driver  avg_rating_of_driver     avg_surge  \\\n",
       "count  34610.000000          34503.000000          30237.000000  34610.000000   \n",
       "mean       5.529568              4.772376              4.589562      1.076295   \n",
       "std        5.280161              0.420742              0.601646      0.214742   \n",
       "min        0.000000              1.000000              1.000000      1.000000   \n",
       "25%        2.450000              4.700000              4.300000      1.000000   \n",
       "50%        3.800000              5.000000              4.900000      1.000000   \n",
       "75%        6.520000              5.000000              5.000000      1.070000   \n",
       "max       79.690000              5.000000              5.000000      8.000000   \n",
       "\n",
       "          surge_pct  trips_in_first_30_days   weekday_pct  \n",
       "count  34610.000000            34610.000000  34610.000000  \n",
       "mean       8.999191                3.291245     60.760104  \n",
       "std       18.979042                4.176923     35.035881  \n",
       "min        0.000000                1.000000      0.000000  \n",
       "25%        0.000000                1.000000     37.500000  \n",
       "50%        0.000000                2.000000     66.700000  \n",
       "75%       10.800000                4.000000    100.000000  \n",
       "max      100.000000              125.000000    100.000000  "
      ]
     },
     "execution_count": 16,
     "metadata": {},
     "output_type": "execute_result"
    }
   ],
   "source": [
    "retained_user_df.describe()"
   ]
  },
  {
   "cell_type": "markdown",
   "metadata": {},
   "source": [
    "Notice the only non-definitional category with a visibly different mean is the avg_dist variable with a 15.7% difference in the value. Notice that the standard deviation is nearly the size of the mean. This indicates that there is a high variance in the distance that customers travel. \n",
    "\n",
    "For our model we will consider all of the numerical values aside from the trips_in_first_30_days variable, as it is used to define the difference between retained and non-retained users."
   ]
  },
  {
   "cell_type": "markdown",
   "metadata": {},
   "source": [
    "### Analysis of Boolean Variables"
   ]
  },
  {
   "cell_type": "markdown",
   "metadata": {},
   "source": [
    "#### Ultimate Black Car "
   ]
  },
  {
   "cell_type": "code",
   "execution_count": 17,
   "metadata": {},
   "outputs": [
    {
     "name": "stdout",
     "output_type": "stream",
     "text": [
      "Ultimate retains 69.22 % of all users \n",
      "\n",
      "\n",
      "34.95 % of Non-retained users used ultimate black for their first ride\n",
      "38.93 % of Non-retained users used ultimate black for their first ride\n",
      "Ultimate Black car retains 71.47 % of users.\n"
     ]
    }
   ],
   "source": [
    "retained_user_percent = len(retained_user_df)/ len(ulti_df) \n",
    "print('Ultimate retains', '%.2f' % (retained_user_percent*100), '%', 'of all users \\n\\n')\n",
    "\n",
    "# Does the ultimate black service contribute to the difference\n",
    "zero_user_percent_ub = zero_user_df['ultimate_black_user'].sum() / len(zero_user_df)\n",
    "retained_user_percent_ub =  retained_user_df['ultimate_black_user'].sum() / len(retained_user_df)\n",
    "\n",
    "# Non-retained users used ultimate black 34%\n",
    "print(\"%.2f\" % (zero_user_percent_ub*100), '%', 'of Non-retained users used ultimate black for their first ride')\n",
    "# Reatined users used ultimate black 39%\n",
    "print(\"%.2f\" % (retained_user_percent_ub*100), '%', 'of Non-retained users used ultimate black for their first ride')\n",
    "\n",
    "# What percentage of people that used ultimate black retained?\n",
    "# 37 percent of all users used ultimate black their first ride\n",
    "# 69.22% of users retained\n",
    "\n",
    "black_car_user_df = ulti_df.loc[ulti_df['ultimate_black_user'] == True]\n",
    "# 18854 users are black_car_users\n",
    "zero_black = black_car_user_df.loc[black_car_user_df['trips_in_first_30_days'] == 0]\n",
    "retain_black = black_car_user_df.loc[black_car_user_df['trips_in_first_30_days'] != 0]\n",
    "black_retention_rate = len(retain_black) / len(black_car_user_df)\n",
    "\n",
    "print('Ultimate Black car retains', \"%.2f\" % (black_retention_rate*100), '%', 'of users.')\n",
    "# Black car retains 71.47% of users. So slgihtly higher. "
   ]
  },
  {
   "cell_type": "markdown",
   "metadata": {},
   "source": [
    "This indicates Ultimate black may be a useful predictor, we will want to include it in the model. "
   ]
  },
  {
   "cell_type": "markdown",
   "metadata": {},
   "source": [
    "#### Retention by City"
   ]
  },
  {
   "cell_type": "code",
   "execution_count": 18,
   "metadata": {},
   "outputs": [
    {
     "name": "stdout",
     "output_type": "stream",
     "text": [
      "Ultimate Black car retained 67.75 % of users whose first ride originated from Astapor.\n",
      "Ultimate Black car retained 65.13 % of users whose first ride originated from King's Landing.\n",
      "Ultimate Black car retained 72.04 % of users whose first ride originated from Winterfell.\n"
     ]
    }
   ],
   "source": [
    "######################\n",
    "# Retention By City\n",
    "######################\n",
    "# Cites are Astapor, King's Landing, and Winterfell\n",
    "\n",
    "# Astapor\n",
    "zero_Astapor     = zero_user_df.loc[zero_user_df['city'] == 'Astapor']\n",
    "retained_Astapor = retained_user_df.loc[retained_user_df['city'] == 'Astapor']\n",
    "\n",
    "retention_rate_Astapor = len(retained_Astapor) / (len(retained_Astapor) + len(zero_Astapor))\n",
    "# 67.745%\n",
    "print('Ultimate Black car retained', \"%.2f\" % (retention_rate_Astapor*100), '%', 'of users whose first ride originated from Astapor.')\n",
    "\n",
    "\n",
    "# King's Landing\n",
    "zero_Kings     = zero_user_df.loc[zero_user_df['city'] == 'King\\'s Landing']\n",
    "retained_Kings = retained_user_df.loc[retained_user_df['city'] == 'King\\'s Landing']\n",
    "\n",
    "retention_rate_Kings = len(retained_Kings) / (len(retained_Kings) + len(zero_Kings))\n",
    "# 65.13%\n",
    "print('Ultimate Black car retained', \"%.2f\" % (retention_rate_Kings*100), '%', 'of users whose first ride originated from King\\'s Landing.')\n",
    "\n",
    "# Winterfell\n",
    "zero_Winter     = zero_user_df.loc[zero_user_df['city'] == 'Winterfell']\n",
    "retained_Winter =retained_user_df.loc[retained_user_df['city'] == 'Winterfell']\n",
    " \n",
    "retention_rate_Winter = len(retained_Winter) / (len(retained_Winter) + len(zero_Winter))\n",
    "# 72.04 %\n",
    "print('Ultimate Black car retained', \"%.2f\" % (retention_rate_Winter*100), '%', 'of users whose first ride originated from Winterfell.')\n",
    "\n"
   ]
  },
  {
   "cell_type": "markdown",
   "metadata": {},
   "source": [
    "The high percentage of retained users in Winterfell certainly stands out. Perhaps city traffic patterns allow for shorter wait times, or maybe it is a low crime rate neighborhood where people feel more comfortable ride-sharing. This will certainly be included in the model."
   ]
  },
  {
   "cell_type": "markdown",
   "metadata": {},
   "source": [
    "#### Retention by Phone type"
   ]
  },
  {
   "cell_type": "code",
   "execution_count": 19,
   "metadata": {},
   "outputs": [
    {
     "name": "stdout",
     "output_type": "stream",
     "text": [
      "Ultimate Black car retained 69.07 % of users who signed up via iPhone.\n",
      "Ultimate Black car retained 69.27 % of users who signed up via Android.\n"
     ]
    }
   ],
   "source": [
    "######################\n",
    "# Retention By phone\n",
    "######################\n",
    "# iPhone\n",
    "zero_iPhone     = zero_user_df.loc[zero_user_df['phone'] == 'iPhone']\n",
    "retained_iPhone = retained_user_df.loc[retained_user_df['phone'] == 'iPhone']\n",
    "\n",
    "retention_rate_iPhone = len(retained_iPhone) / (len(retained_iPhone) + len(zero_iPhone))\n",
    "# 69.07%\n",
    "print('Ultimate Black car retained', \"%.2f\" % (retention_rate_iPhone*100), '%', 'of users who signed up via iPhone.')\n",
    "\n",
    "\n",
    "# Android\n",
    "zero_Android    = zero_user_df.loc[zero_user_df['phone'] == 'Android']\n",
    "retained_Android = retained_user_df.loc[retained_user_df['phone'] == 'Android']\n",
    "\n",
    "retention_rate_Android = len(retained_Android) / (len(retained_Android) + len(zero_Android))\n",
    "# 69.265%\n",
    "print('Ultimate Black car retained', \"%.2f\" % (retention_rate_Android*100), '%', 'of users who signed up via Android.')\n"
   ]
  },
  {
   "cell_type": "markdown",
   "metadata": {},
   "source": [
    "There is almost no difference in this case, it can be left out of the model."
   ]
  },
  {
   "cell_type": "markdown",
   "metadata": {},
   "source": [
    "### Modeling\n",
    "#### Type of model \n",
    "As we are predicting whether or not users are retained or not after a time period we will want to use a classification model. We will use a Random Forest Classifier to help elucidate feature importances. We will copy the ulti_df dataframe and add a classification column. \n",
    "\n",
    "#### Feature Selection \n",
    "We will include all numerical models alongside the Black Car and City variables which will need to be quantified. To quantify the Black Car and City variables we will make new columns Black_quant and city_quant with values 0,1 in the case of black car, and values 1,2,3 in the case of city_quant for Astapor, Winterfell, and King's Landing respectively. "
   ]
  },
  {
   "cell_type": "code",
   "execution_count": 20,
   "metadata": {},
   "outputs": [],
   "source": [
    "new_ulti_df = ulti_df.copy(deep = True)"
   ]
  },
  {
   "cell_type": "markdown",
   "metadata": {},
   "source": [
    "#### Classify based on retention"
   ]
  },
  {
   "cell_type": "code",
   "execution_count": 21,
   "metadata": {},
   "outputs": [],
   "source": [
    "retained_classification = []\n",
    "for i in range(len(new_ulti_df)):\n",
    "    if new_ulti_df['trips_in_first_30_days'][i] == 0:\n",
    "        retained_classification.append(0)\n",
    "    else:\n",
    "        retained_classification.append(1)"
   ]
  },
  {
   "cell_type": "code",
   "execution_count": 22,
   "metadata": {},
   "outputs": [],
   "source": [
    "new_ulti_df['retained_classification'] = retained_classification"
   ]
  },
  {
   "cell_type": "markdown",
   "metadata": {},
   "source": [
    "#### Classify by Black Car"
   ]
  },
  {
   "cell_type": "code",
   "execution_count": 23,
   "metadata": {},
   "outputs": [],
   "source": [
    "black_car_classification = []\n",
    "for i in range(len(new_ulti_df)):\n",
    "    if new_ulti_df['ultimate_black_user'][i] == 0:\n",
    "        black_car_classification.append(0)\n",
    "    else:\n",
    "        black_car_classification.append(1)"
   ]
  },
  {
   "cell_type": "code",
   "execution_count": 24,
   "metadata": {},
   "outputs": [],
   "source": [
    "new_ulti_df['black_car_classification'] = black_car_classification"
   ]
  },
  {
   "cell_type": "markdown",
   "metadata": {},
   "source": [
    "#### Classify by City"
   ]
  },
  {
   "cell_type": "code",
   "execution_count": 25,
   "metadata": {},
   "outputs": [],
   "source": [
    "city_classification = []\n",
    "for i in range(len(new_ulti_df)):\n",
    "    if new_ulti_df['city'][i] == 'Astapor':\n",
    "        city_classification.append(1)\n",
    "        \n",
    "    elif new_ulti_df['city'][i] == 'King\\'s Landing':\n",
    "         city_classification.append(2)\n",
    "    else: \n",
    "        city_classification.append(3)"
   ]
  },
  {
   "cell_type": "code",
   "execution_count": 26,
   "metadata": {},
   "outputs": [],
   "source": [
    "new_ulti_df['city_classification'] = city_classification"
   ]
  },
  {
   "cell_type": "code",
   "execution_count": 27,
   "metadata": {},
   "outputs": [
    {
     "data": {
      "text/html": [
       "<div>\n",
       "<style>\n",
       "    .dataframe thead tr:only-child th {\n",
       "        text-align: right;\n",
       "    }\n",
       "\n",
       "    .dataframe thead th {\n",
       "        text-align: left;\n",
       "    }\n",
       "\n",
       "    .dataframe tbody tr th {\n",
       "        vertical-align: top;\n",
       "    }\n",
       "</style>\n",
       "<table border=\"1\" class=\"dataframe\">\n",
       "  <thead>\n",
       "    <tr style=\"text-align: right;\">\n",
       "      <th></th>\n",
       "      <th>avg_dist</th>\n",
       "      <th>avg_rating_by_driver</th>\n",
       "      <th>avg_rating_of_driver</th>\n",
       "      <th>avg_surge</th>\n",
       "      <th>city</th>\n",
       "      <th>last_trip_date</th>\n",
       "      <th>phone</th>\n",
       "      <th>signup_date</th>\n",
       "      <th>surge_pct</th>\n",
       "      <th>trips_in_first_30_days</th>\n",
       "      <th>ultimate_black_user</th>\n",
       "      <th>weekday_pct</th>\n",
       "      <th>retained_classification</th>\n",
       "      <th>black_car_classification</th>\n",
       "      <th>city_classification</th>\n",
       "    </tr>\n",
       "  </thead>\n",
       "  <tbody>\n",
       "    <tr>\n",
       "      <th>0</th>\n",
       "      <td>3.67</td>\n",
       "      <td>5.0</td>\n",
       "      <td>4.7</td>\n",
       "      <td>1.10</td>\n",
       "      <td>King's Landing</td>\n",
       "      <td>2014-06-17</td>\n",
       "      <td>iPhone</td>\n",
       "      <td>2014-01-25</td>\n",
       "      <td>15.4</td>\n",
       "      <td>4</td>\n",
       "      <td>True</td>\n",
       "      <td>46.2</td>\n",
       "      <td>1</td>\n",
       "      <td>1</td>\n",
       "      <td>2</td>\n",
       "    </tr>\n",
       "    <tr>\n",
       "      <th>1</th>\n",
       "      <td>8.26</td>\n",
       "      <td>5.0</td>\n",
       "      <td>5.0</td>\n",
       "      <td>1.00</td>\n",
       "      <td>Astapor</td>\n",
       "      <td>2014-05-05</td>\n",
       "      <td>Android</td>\n",
       "      <td>2014-01-29</td>\n",
       "      <td>0.0</td>\n",
       "      <td>0</td>\n",
       "      <td>False</td>\n",
       "      <td>50.0</td>\n",
       "      <td>0</td>\n",
       "      <td>0</td>\n",
       "      <td>1</td>\n",
       "    </tr>\n",
       "    <tr>\n",
       "      <th>2</th>\n",
       "      <td>0.77</td>\n",
       "      <td>5.0</td>\n",
       "      <td>4.3</td>\n",
       "      <td>1.00</td>\n",
       "      <td>Astapor</td>\n",
       "      <td>2014-01-07</td>\n",
       "      <td>iPhone</td>\n",
       "      <td>2014-01-06</td>\n",
       "      <td>0.0</td>\n",
       "      <td>3</td>\n",
       "      <td>False</td>\n",
       "      <td>100.0</td>\n",
       "      <td>1</td>\n",
       "      <td>0</td>\n",
       "      <td>1</td>\n",
       "    </tr>\n",
       "    <tr>\n",
       "      <th>3</th>\n",
       "      <td>2.36</td>\n",
       "      <td>4.9</td>\n",
       "      <td>4.6</td>\n",
       "      <td>1.14</td>\n",
       "      <td>King's Landing</td>\n",
       "      <td>2014-06-29</td>\n",
       "      <td>iPhone</td>\n",
       "      <td>2014-01-10</td>\n",
       "      <td>20.0</td>\n",
       "      <td>9</td>\n",
       "      <td>True</td>\n",
       "      <td>80.0</td>\n",
       "      <td>1</td>\n",
       "      <td>1</td>\n",
       "      <td>2</td>\n",
       "    </tr>\n",
       "    <tr>\n",
       "      <th>4</th>\n",
       "      <td>3.13</td>\n",
       "      <td>4.9</td>\n",
       "      <td>4.4</td>\n",
       "      <td>1.19</td>\n",
       "      <td>Winterfell</td>\n",
       "      <td>2014-03-15</td>\n",
       "      <td>Android</td>\n",
       "      <td>2014-01-27</td>\n",
       "      <td>11.8</td>\n",
       "      <td>14</td>\n",
       "      <td>False</td>\n",
       "      <td>82.4</td>\n",
       "      <td>1</td>\n",
       "      <td>0</td>\n",
       "      <td>3</td>\n",
       "    </tr>\n",
       "  </tbody>\n",
       "</table>\n",
       "</div>"
      ],
      "text/plain": [
       "   avg_dist  avg_rating_by_driver  avg_rating_of_driver  avg_surge  \\\n",
       "0      3.67                   5.0                   4.7       1.10   \n",
       "1      8.26                   5.0                   5.0       1.00   \n",
       "2      0.77                   5.0                   4.3       1.00   \n",
       "3      2.36                   4.9                   4.6       1.14   \n",
       "4      3.13                   4.9                   4.4       1.19   \n",
       "\n",
       "             city last_trip_date    phone signup_date  surge_pct  \\\n",
       "0  King's Landing     2014-06-17   iPhone  2014-01-25       15.4   \n",
       "1         Astapor     2014-05-05  Android  2014-01-29        0.0   \n",
       "2         Astapor     2014-01-07   iPhone  2014-01-06        0.0   \n",
       "3  King's Landing     2014-06-29   iPhone  2014-01-10       20.0   \n",
       "4      Winterfell     2014-03-15  Android  2014-01-27       11.8   \n",
       "\n",
       "   trips_in_first_30_days  ultimate_black_user  weekday_pct  \\\n",
       "0                       4                 True         46.2   \n",
       "1                       0                False         50.0   \n",
       "2                       3                False        100.0   \n",
       "3                       9                 True         80.0   \n",
       "4                      14                False         82.4   \n",
       "\n",
       "   retained_classification  black_car_classification  city_classification  \n",
       "0                        1                         1                    2  \n",
       "1                        0                         0                    1  \n",
       "2                        1                         0                    1  \n",
       "3                        1                         1                    2  \n",
       "4                        1                         0                    3  "
      ]
     },
     "execution_count": 27,
     "metadata": {},
     "output_type": "execute_result"
    }
   ],
   "source": [
    "new_ulti_df.head(5)"
   ]
  },
  {
   "cell_type": "markdown",
   "metadata": {},
   "source": [
    "#### Machine Learning Imports"
   ]
  },
  {
   "cell_type": "code",
   "execution_count": 28,
   "metadata": {},
   "outputs": [
    {
     "name": "stderr",
     "output_type": "stream",
     "text": [
      "C:\\Users\\Jon\\Anaconda3\\lib\\site-packages\\sklearn\\cross_validation.py:41: DeprecationWarning: This module was deprecated in version 0.18 in favor of the model_selection module into which all the refactored classes and functions are moved. Also note that the interface of the new CV iterators are different from that of this module. This module will be removed in 0.20.\n",
      "  \"This module will be removed in 0.20.\", DeprecationWarning)\n"
     ]
    }
   ],
   "source": [
    "from sklearn.ensemble import RandomForestClassifier\n",
    "from sklearn.cross_validation import train_test_split\n",
    "from sklearn.metrics import accuracy_score"
   ]
  },
  {
   "cell_type": "markdown",
   "metadata": {},
   "source": [
    "#### Create a version of new_ulti_df including only numeric columns.\n"
   ]
  },
  {
   "cell_type": "code",
   "execution_count": 29,
   "metadata": {},
   "outputs": [],
   "source": [
    "%%capture\n",
    "df = new_ulti_df._get_numeric_data()\n",
    "df.dropna(inplace = True)\n",
    "df.drop('ultimate_black_user', axis = 1, inplace = True)\n",
    "\n",
    "# Drop NA Values. They only appeared in the avg_rating of driver. In a longer time frame study I would recommend looking into\n",
    "# the cases with NA values as a separate dataframe. Maybe those customers were so dissatisfied that they did not want to leave a rating. \n"
   ]
  },
  {
   "cell_type": "markdown",
   "metadata": {},
   "source": [
    "#### A quick look at the new dataframe"
   ]
  },
  {
   "cell_type": "code",
   "execution_count": 30,
   "metadata": {},
   "outputs": [
    {
     "data": {
      "text/html": [
       "<div>\n",
       "<style>\n",
       "    .dataframe thead tr:only-child th {\n",
       "        text-align: right;\n",
       "    }\n",
       "\n",
       "    .dataframe thead th {\n",
       "        text-align: left;\n",
       "    }\n",
       "\n",
       "    .dataframe tbody tr th {\n",
       "        vertical-align: top;\n",
       "    }\n",
       "</style>\n",
       "<table border=\"1\" class=\"dataframe\">\n",
       "  <thead>\n",
       "    <tr style=\"text-align: right;\">\n",
       "      <th></th>\n",
       "      <th>avg_dist</th>\n",
       "      <th>avg_rating_by_driver</th>\n",
       "      <th>avg_rating_of_driver</th>\n",
       "      <th>avg_surge</th>\n",
       "      <th>surge_pct</th>\n",
       "      <th>trips_in_first_30_days</th>\n",
       "      <th>weekday_pct</th>\n",
       "      <th>retained_classification</th>\n",
       "      <th>black_car_classification</th>\n",
       "      <th>city_classification</th>\n",
       "    </tr>\n",
       "  </thead>\n",
       "  <tbody>\n",
       "    <tr>\n",
       "      <th>0</th>\n",
       "      <td>3.67</td>\n",
       "      <td>5.0</td>\n",
       "      <td>4.7</td>\n",
       "      <td>1.10</td>\n",
       "      <td>15.4</td>\n",
       "      <td>4</td>\n",
       "      <td>46.2</td>\n",
       "      <td>1</td>\n",
       "      <td>1</td>\n",
       "      <td>2</td>\n",
       "    </tr>\n",
       "    <tr>\n",
       "      <th>1</th>\n",
       "      <td>8.26</td>\n",
       "      <td>5.0</td>\n",
       "      <td>5.0</td>\n",
       "      <td>1.00</td>\n",
       "      <td>0.0</td>\n",
       "      <td>0</td>\n",
       "      <td>50.0</td>\n",
       "      <td>0</td>\n",
       "      <td>0</td>\n",
       "      <td>1</td>\n",
       "    </tr>\n",
       "    <tr>\n",
       "      <th>2</th>\n",
       "      <td>0.77</td>\n",
       "      <td>5.0</td>\n",
       "      <td>4.3</td>\n",
       "      <td>1.00</td>\n",
       "      <td>0.0</td>\n",
       "      <td>3</td>\n",
       "      <td>100.0</td>\n",
       "      <td>1</td>\n",
       "      <td>0</td>\n",
       "      <td>1</td>\n",
       "    </tr>\n",
       "    <tr>\n",
       "      <th>3</th>\n",
       "      <td>2.36</td>\n",
       "      <td>4.9</td>\n",
       "      <td>4.6</td>\n",
       "      <td>1.14</td>\n",
       "      <td>20.0</td>\n",
       "      <td>9</td>\n",
       "      <td>80.0</td>\n",
       "      <td>1</td>\n",
       "      <td>1</td>\n",
       "      <td>2</td>\n",
       "    </tr>\n",
       "    <tr>\n",
       "      <th>4</th>\n",
       "      <td>3.13</td>\n",
       "      <td>4.9</td>\n",
       "      <td>4.4</td>\n",
       "      <td>1.19</td>\n",
       "      <td>11.8</td>\n",
       "      <td>14</td>\n",
       "      <td>82.4</td>\n",
       "      <td>1</td>\n",
       "      <td>0</td>\n",
       "      <td>3</td>\n",
       "    </tr>\n",
       "  </tbody>\n",
       "</table>\n",
       "</div>"
      ],
      "text/plain": [
       "   avg_dist  avg_rating_by_driver  avg_rating_of_driver  avg_surge  surge_pct  \\\n",
       "0      3.67                   5.0                   4.7       1.10       15.4   \n",
       "1      8.26                   5.0                   5.0       1.00        0.0   \n",
       "2      0.77                   5.0                   4.3       1.00        0.0   \n",
       "3      2.36                   4.9                   4.6       1.14       20.0   \n",
       "4      3.13                   4.9                   4.4       1.19       11.8   \n",
       "\n",
       "   trips_in_first_30_days  weekday_pct  retained_classification  \\\n",
       "0                       4         46.2                        1   \n",
       "1                       0         50.0                        0   \n",
       "2                       3        100.0                        1   \n",
       "3                       9         80.0                        1   \n",
       "4                      14         82.4                        1   \n",
       "\n",
       "   black_car_classification  city_classification  \n",
       "0                         1                    2  \n",
       "1                         0                    1  \n",
       "2                         0                    1  \n",
       "3                         1                    2  \n",
       "4                         0                    3  "
      ]
     },
     "execution_count": 30,
     "metadata": {},
     "output_type": "execute_result"
    }
   ],
   "source": [
    "df.head(5)"
   ]
  },
  {
   "cell_type": "markdown",
   "metadata": {},
   "source": [
    "#### Select feature columns, exclude the label column"
   ]
  },
  {
   "cell_type": "code",
   "execution_count": 31,
   "metadata": {},
   "outputs": [],
   "source": [
    "ml_cols = [col for col in df.columns if col not in ['retained_classification', 'trips_in_first_30_days']]"
   ]
  },
  {
   "cell_type": "markdown",
   "metadata": {},
   "source": [
    "#### Construct the Random Forest Classifier"
   ]
  },
  {
   "cell_type": "code",
   "execution_count": 32,
   "metadata": {},
   "outputs": [],
   "source": [
    "X = df[ml_cols]\n",
    "y = df['retained_classification'] # The label column\n",
    "# from sklearn import preprocessing\n",
    "# X = preprocessing.scale(X) \n",
    "X_train, X_test, y_train, y_test = train_test_split(X,y, test_size = 0.3)  # , random_state = 42\n"
   ]
  },
  {
   "cell_type": "code",
   "execution_count": 33,
   "metadata": {},
   "outputs": [
    {
     "name": "stdout",
     "output_type": "stream",
     "text": [
      "Ten fold Cross Validated Accuracy score: 0.6646\n"
     ]
    }
   ],
   "source": [
    "clf = RandomForestClassifier()\n",
    "clf.fit(X_train, y_train)\n",
    "\n",
    "y_pred = clf.predict(X_test)\n",
    "from sklearn.cross_validation import cross_val_score\n",
    "print('Ten fold Cross Validated Accuracy score:', \n",
    "      '%.4f' % np.mean(cross_val_score(clf, X_train, y_train, cv=10)))"
   ]
  },
  {
   "cell_type": "markdown",
   "metadata": {},
   "source": [
    "#### Hyperparameter Tuning"
   ]
  },
  {
   "cell_type": "code",
   "execution_count": 34,
   "metadata": {},
   "outputs": [
    {
     "name": "stdout",
     "output_type": "stream",
     "text": [
      "Model with rank: 1\n",
      "Mean validation score: 0.722 (std: 0.000)\n",
      "Parameters: {'bootstrap': True, 'criterion': 'entropy', 'max_depth': 5, 'max_features': 2, 'min_samples_leaf': 2, 'min_samples_split': 27}\n",
      "\n",
      "Model with rank: 1\n",
      "Mean validation score: 0.722 (std: 0.000)\n",
      "Parameters: {'bootstrap': False, 'criterion': 'entropy', 'max_depth': 5, 'max_features': 5, 'min_samples_leaf': 3, 'min_samples_split': 19}\n",
      "\n"
     ]
    }
   ],
   "source": [
    "from time import time\n",
    "from scipy.stats import randint as sp_randint\n",
    "from sklearn.model_selection import RandomizedSearchCV\n",
    "\n",
    "# The following is revised from the documentation for randomized search cv.\n",
    "\n",
    "# Utility function to report best scores\n",
    "def report(results, n_top=1):\n",
    "    for i in range(1, n_top + 1):\n",
    "        candidates = np.flatnonzero(results['rank_test_score'] == i)\n",
    "        for candidate in candidates:\n",
    "            print(\"Model with rank: {0}\".format(i))\n",
    "            print(\"Mean validation score: {0:.3f} (std: {1:.3f})\".format(\n",
    "                  results['mean_test_score'][candidate],\n",
    "                  results['std_test_score'][candidate]))\n",
    "            print(\"Parameters: {0}\".format(results['params'][candidate]))\n",
    "            print(\"\")\n",
    "\n",
    "\n",
    "# specify parameters and distributions to sample from\n",
    "param_dist = {\"max_depth\": [5, 8, 15, 25, 30],\n",
    "              \"max_features\": sp_randint(1, 8),\n",
    "              \"min_samples_split\": sp_randint(2, 100),\n",
    "              \"min_samples_leaf\": sp_randint(1, 10),\n",
    "              \"bootstrap\": [True, False],\n",
    "              \"criterion\": [\"gini\", \"entropy\"]}\n",
    "\n",
    "# Run randomized search\n",
    "n_iter_search = 20\n",
    "random_search = RandomizedSearchCV(clf, param_distributions=param_dist,\n",
    "                                   n_iter=n_iter_search)\n",
    "\n",
    "random_search.fit(X_train, y_train)\n",
    "report(random_search.cv_results_)"
   ]
  },
  {
   "cell_type": "code",
   "execution_count": 35,
   "metadata": {},
   "outputs": [
    {
     "name": "stdout",
     "output_type": "stream",
     "text": [
      "Ten fold Cross Validated Accuracy score: 0.6582\n"
     ]
    }
   ],
   "source": [
    "clf_rcv = RandomForestClassifier(bootstrap = False, criterion = 'entropy', max_depth =  8, max_features =  3, min_samples_leaf = 2, min_samples_split = 46)\n",
    "clf_rcv.fit(X_train, y_train)\n",
    "\n",
    "y_pred = clf_rcv.predict(X_test)\n",
    "from sklearn.cross_validation import cross_val_score\n",
    "print('Ten fold Cross Validated Accuracy score:', \n",
    "      '%.4f' % np.mean(cross_val_score(clf, X_train, y_train, cv=10)))"
   ]
  },
  {
   "cell_type": "markdown",
   "metadata": {},
   "source": [
    "This generates the hyperparameter tuned Random Forest Classifier to yield our feature importances for determining which users will be retained over a 30 day period. Our next step is to understand these importances and tackle the 6-month problem."
   ]
  },
  {
   "cell_type": "code",
   "execution_count": 36,
   "metadata": {},
   "outputs": [
    {
     "name": "stdout",
     "output_type": "stream",
     "text": [
      "Variable: avg_rating_by_driver Importance: 0.27\n",
      "Variable: surge_pct            Importance: 0.22\n",
      "Variable: weekday_pct          Importance: 0.2\n",
      "Variable: avg_dist             Importance: 0.11\n",
      "Variable: avg_rating_of_driver Importance: 0.06\n",
      "Variable: city_classification  Importance: 0.06\n",
      "Variable: avg_surge            Importance: 0.05\n",
      "Variable: black_car_classification Importance: 0.01\n"
     ]
    },
    {
     "data": {
      "image/png": "[encoded data removed]",
      "text/plain": [
       "<matplotlib.figure.Figure at 0x265faf0a0b8>"
      ]
     },
     "metadata": {},
     "output_type": "display_data"
    }
   ],
   "source": [
    "# Get numerical feature importances\n",
    "importances = list(clf_rcv.feature_importances_)\n",
    "\n",
    "# List of tuples with variable and importance\n",
    "feature_importances = [(feature, round(importance, 2)) for feature, \n",
    "                       importance in zip(ml_cols, importances)]\n",
    "\n",
    "# Sort the feature importances by most important first\n",
    "feature_importances = sorted(feature_importances, \n",
    "                             key = lambda x: x[1], \n",
    "                             reverse = True)\n",
    "\n",
    "# Print out the feature and importances \n",
    "[print('Variable: {:20} Importance: {}'.format(*pair)) for pair in feature_importances];\n",
    "\n",
    "\n",
    "\n",
    "# Set the style\n",
    "plt.style.use('fivethirtyeight')\n",
    "\n",
    "# list of x locations for plotting\n",
    "x_values = list(range(len(importances)))\n",
    "\n",
    "# Make a bar chart\n",
    "plt.bar(x_values, importances, orientation = 'vertical', color = 'orange')\n",
    "\n",
    "# Tick labels for x axis\n",
    "plt.xticks(x_values, ml_cols, rotation='vertical')\n",
    "\n",
    "# Axis labels and title\n",
    "plt.ylabel('Importance'); \n",
    "plt.xlabel('Variable');\n",
    "plt.title('Variable Importances: All Numeric Variables'); \n",
    "plt.show()\n",
    "plt.clf()"
   ]
  },
  {
   "cell_type": "markdown",
   "metadata": {},
   "source": [
    "The problem statement describes different behavior during the weekdays and weekends so let's edit ml_cols and try again. "
   ]
  },
  {
   "cell_type": "code",
   "execution_count": 37,
   "metadata": {},
   "outputs": [],
   "source": [
    "ml_cols.remove('weekday_pct')"
   ]
  },
  {
   "cell_type": "code",
   "execution_count": 38,
   "metadata": {},
   "outputs": [
    {
     "name": "stdout",
     "output_type": "stream",
     "text": [
      "Ten fold Cross Validated Accuracy score: 0.6506\n"
     ]
    }
   ],
   "source": [
    "X = df[ml_cols]\n",
    "y = df['retained_classification'] # The label column\n",
    "# from sklearn import preprocessing\n",
    "# X = preprocessing.scale(X) \n",
    "X_train, X_test, y_train, y_test = train_test_split(X,y, test_size = 0.3)  # , random_state = 42\n",
    "\n",
    "clf_rcv = RandomForestClassifier(bootstrap = False, criterion = 'entropy', max_depth =  8, max_features =  3, min_samples_leaf = 2, min_samples_split = 46)\n",
    "clf_rcv.fit(X_train, y_train)\n",
    "\n",
    "y_pred = clf_rcv.predict(X_test)\n",
    "from sklearn.cross_validation import cross_val_score\n",
    "print('Ten fold Cross Validated Accuracy score:', \n",
    "      '%.4f' % np.mean(cross_val_score(clf, X_train, y_train, cv=10)))"
   ]
  },
  {
   "cell_type": "code",
   "execution_count": 39,
   "metadata": {},
   "outputs": [
    {
     "name": "stdout",
     "output_type": "stream",
     "text": [
      "Variable: avg_rating_by_driver Importance: 0.26\n",
      "Variable: surge_pct            Importance: 0.25\n",
      "Variable: avg_dist             Importance: 0.16\n",
      "Variable: avg_surge            Importance: 0.16\n",
      "Variable: avg_rating_of_driver Importance: 0.1\n",
      "Variable: city_classification  Importance: 0.06\n",
      "Variable: black_car_classification Importance: 0.02\n"
     ]
    },
    {
     "data": {
      "image/png": "[encoded data removed]",
      "text/plain": [
       "<matplotlib.figure.Figure at 0x265f3f11780>"
      ]
     },
     "metadata": {},
     "output_type": "display_data"
    }
   ],
   "source": [
    "# Get numerical feature importances\n",
    "importances = list(clf_rcv.feature_importances_)\n",
    "\n",
    "# List of tuples with variable and importance\n",
    "feature_importances = [(feature, round(importance, 2)) for feature, \n",
    "                       importance in zip(ml_cols, importances)]\n",
    "\n",
    "# Sort the feature importances by most important first\n",
    "feature_importances = sorted(feature_importances, \n",
    "                             key = lambda x: x[1], \n",
    "                             reverse = True)\n",
    "\n",
    "# Print out the feature and importances \n",
    "[print('Variable: {:20} Importance: {}'.format(*pair)) for pair in feature_importances];\n",
    "\n",
    "\n",
    "\n",
    "# Set the style\n",
    "plt.style.use('fivethirtyeight')\n",
    "\n",
    "# list of x locations for plotting\n",
    "x_values = list(range(len(importances)))\n",
    "\n",
    "# Make a bar chart\n",
    "plt.bar(x_values, importances, orientation = 'vertical', color = 'teal')\n",
    "\n",
    "# Tick labels for x axis\n",
    "plt.xticks(x_values, ml_cols, rotation='vertical')\n",
    "\n",
    "# Axis labels and title\n",
    "plt.ylabel('Importance'); \n",
    "plt.xlabel('Variable');\n",
    "plt.title('Variable Importances: All numeric variables Sans Weekday'); \n",
    "plt.show()\n",
    "plt.clf()"
   ]
  },
  {
   "cell_type": "markdown",
   "metadata": {},
   "source": [
    "Average rating by the driver is not something we can control, but it does give some insight into the idea that problematic customers are less likely to use the service. As those who receive low driver rating were likely unpleasant which would lead to a negative experience. Let's try again without acvg_rating_by_driver."
   ]
  },
  {
   "cell_type": "code",
   "execution_count": 40,
   "metadata": {},
   "outputs": [],
   "source": [
    "ml_cols.remove('avg_rating_by_driver')"
   ]
  },
  {
   "cell_type": "code",
   "execution_count": 41,
   "metadata": {},
   "outputs": [
    {
     "name": "stdout",
     "output_type": "stream",
     "text": [
      "Ten fold Cross Validated Accuracy score: 0.6486\n",
      "Variable: surge_pct            Importance: 0.31\n",
      "Variable: avg_surge            Importance: 0.21\n",
      "Variable: avg_dist             Importance: 0.2\n",
      "Variable: avg_rating_of_driver Importance: 0.19\n",
      "Variable: city_classification  Importance: 0.08\n",
      "Variable: black_car_classification Importance: 0.01\n"
     ]
    },
    {
     "data": {
      "image/png": "[encoded data removed]",
      "text/plain": [
       "<matplotlib.figure.Figure at 0x265f3f25b70>"
      ]
     },
     "metadata": {},
     "output_type": "display_data"
    }
   ],
   "source": [
    "X = df[ml_cols]\n",
    "y = df['retained_classification'] # The label column\n",
    "# from sklearn import preprocessing\n",
    "# X = preprocessing.scale(X) \n",
    "X_train, X_test, y_train, y_test = train_test_split(X,y, test_size = 0.3)  # , random_state = 42\n",
    "\n",
    "clf_rcv = RandomForestClassifier(bootstrap = False, criterion = 'entropy', max_depth =  8, max_features =  3, min_samples_leaf = 2, min_samples_split = 46)\n",
    "clf_rcv.fit(X_train, y_train)\n",
    "\n",
    "y_pred = clf_rcv.predict(X_test)\n",
    "from sklearn.cross_validation import cross_val_score\n",
    "print('Ten fold Cross Validated Accuracy score:', \n",
    "      '%.4f' % np.mean(cross_val_score(clf, X_train, y_train, cv=10)))\n",
    "\n",
    "# Get numerical feature importances\n",
    "importances = list(clf_rcv.feature_importances_)\n",
    "\n",
    "# List of tuples with variable and importance\n",
    "feature_importances = [(feature, round(importance, 2)) for feature, \n",
    "                       importance in zip(ml_cols, importances)]\n",
    "\n",
    "# Sort the feature importances by most important first\n",
    "feature_importances = sorted(feature_importances, \n",
    "                             key = lambda x: x[1], \n",
    "                             reverse = True)\n",
    "\n",
    "# Print out the feature and importances \n",
    "[print('Variable: {:20} Importance: {}'.format(*pair)) for pair in feature_importances];\n",
    "\n",
    "\n",
    "\n",
    "# Set the style\n",
    "plt.style.use('fivethirtyeight')\n",
    "\n",
    "# list of x locations for plotting\n",
    "x_values = list(range(len(importances)))\n",
    "\n",
    "# Make a bar chart\n",
    "plt.bar(x_values, importances, orientation = 'vertical', color = 'purple')\n",
    "\n",
    "# Tick labels for x axis\n",
    "plt.xticks(x_values, ml_cols, rotation='vertical')\n",
    "\n",
    "# Axis labels and title\n",
    "plt.ylabel('Importance'); \n",
    "plt.xlabel('Variable');\n",
    "plt.title('Variable Importances: All Numeric Variables sans Weekday and Driver Rating for User'); \n",
    "plt.show()\n",
    "plt.clf()"
   ]
  },
  {
   "cell_type": "markdown",
   "metadata": {},
   "source": [
    "All of these variables are informative and key us into different ideas. As discussed prior in Part 2, surge percentage show cases that the driver supply meeting customer demand is a dramatically important task. And as expected the user experience with the driving partner is also quite important. \n",
    "\n",
    "### Part 3.2\n",
    "Next we look to predict user behavior 6 months out. That is, which users will remain active for each of the 6 months after their signup?\n",
    "\n",
    "The simplest solution is applicable if the following assumption holds true:\n",
    "A user's probability to stay retained for any given month remains the same each month regardless of how many months they have used the service. \n",
    "\n",
    "In that case we simply take the product of independent probabilities"
   ]
  },
  {
   "cell_type": "code",
   "execution_count": 42,
   "metadata": {},
   "outputs": [
    {
     "name": "stdout",
     "output_type": "stream",
     "text": [
      "Average six month probability: 20.21%\n"
     ]
    }
   ],
   "source": [
    "retain_probs = clf_rcv.predict_proba(X_test)[:,1]\n",
    "six_month_indep_probs = np.power(retain_probs, 6)\n",
    "avg_six_month_prob = np.average(six_month_indep_probs)\n",
    "print('Average six month probability:', '%.2f%%' %(100*avg_six_month_prob))"
   ]
  },
  {
   "cell_type": "markdown",
   "metadata": {},
   "source": [
    "This model is very basic and merely relies on the model we have already created and tuned. This means that any error that exists in our previous model perpetrates through this model exponentially. However, this would also occur if we were to take the predictions from our model and repeatedly use them as inputs for the model. This method is significantly faster and is more intuitive than the mentioned alternative. \n",
    "\n",
    "While the individual month model is fairly valid, the assumption that a user's retention rate per month is unaffected by how many months they have already retained in the app has flaws. Some customers may grow tired of the service and look for the latest and greatest innovation, while other could develop brand loyalty. This is outside of the scope of the project however, but would be an interesting study for the field of ride-sharing services at leage. "
   ]
  },
  {
   "cell_type": "markdown",
   "metadata": {},
   "source": [
    "#### Part 3.3\n",
    "Both parts 3.1 and 3.2 point to the idea that a customer's intital experience with Ultimate is incredibly important. Every step and precaution to ensure that the ride is excellent should be taken. I would suggest that Ultimate look into several avenues of improvement: \n",
    "1. Create a new customer program\n",
    "    - Waive all surge fees for new customers\n",
    "    - Attempt to connect them with only experienced highly rated drivers. \n",
    "    - Inform their driver that the rider is new to the service.\n",
    "    \n",
    "    \n",
    "    \n",
    "2. Implement the experiment discussed in Part 2. Surge_pct is the most important variable, and increasing driver supply in each city at their respective peak hours will reduce surges and improve customer experience. \n",
    "\n",
    "\n",
    "\n",
    "3. Enforce a system that educates or weeds out underperforming drivers. \n",
    "    - Lenient enough that it can help potentially great drivers work hard and succeed.\n",
    "    - Strict enough that repeatedly lacking drivers are removed from the system.\n",
    "   "
   ]
  },
  {
   "cell_type": "code",
   "execution_count": null,
   "metadata": {},
   "outputs": [],
   "source": []
  }
 ],
 "metadata": {
  "kernelspec": {
   "display_name": "Python 3",
   "language": "python",
   "name": "python3"
  },
  "language_info": {
   "codemirror_mode": {
    "name": "ipython",
    "version": 3
   },
   "file_extension": ".py",
   "mimetype": "text/x-python",
   "name": "python",
   "nbconvert_exporter": "python",
   "pygments_lexer": "ipython3",
   "version": "3.6.3"
  }
 },
 "nbformat": 4,
 "nbformat_minor": 2
}
